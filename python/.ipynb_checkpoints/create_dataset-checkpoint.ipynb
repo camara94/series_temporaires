{
 "cells": [
  {
   "cell_type": "code",
   "execution_count": 3,
   "metadata": {},
   "outputs": [],
   "source": [
    "import pandas as pd\n",
    "import numpy as np"
   ]
  },
  {
   "cell_type": "code",
   "execution_count": 4,
   "metadata": {},
   "outputs": [],
   "source": [
    "data = {\n",
    "    'Annee': [2012, 2012, 2012, 2012, 2013, 2013, 2013, 2013, 2014, 2014, 2014, 2014],\n",
    "    'Rang du trimestre xi': [1, 2, 3, 4, 5, 6, 7, 8, 9, 10, 11, 12],\n",
    "    \"Ventes en milliers d'euros yi\":[48, 41, 60, 65, 58, 52, 68, 74, 60, 56, 75, 78]\n",
    "}"
   ]
  },
  {
   "cell_type": "code",
   "execution_count": 5,
   "metadata": {},
   "outputs": [],
   "source": [
    "df = pd.DataFrame(data)"
   ]
  },
  {
   "cell_type": "code",
   "execution_count": 6,
   "metadata": {},
   "outputs": [
    {
     "data": {
      "text/html": [
       "<div>\n",
       "<style scoped>\n",
       "    .dataframe tbody tr th:only-of-type {\n",
       "        vertical-align: middle;\n",
       "    }\n",
       "\n",
       "    .dataframe tbody tr th {\n",
       "        vertical-align: top;\n",
       "    }\n",
       "\n",
       "    .dataframe thead th {\n",
       "        text-align: right;\n",
       "    }\n",
       "</style>\n",
       "<table border=\"1\" class=\"dataframe\">\n",
       "  <thead>\n",
       "    <tr style=\"text-align: right;\">\n",
       "      <th></th>\n",
       "      <th>Annee</th>\n",
       "      <th>Rang du trimestre xi</th>\n",
       "      <th>Ventes en milliers d'euros yi</th>\n",
       "    </tr>\n",
       "  </thead>\n",
       "  <tbody>\n",
       "    <tr>\n",
       "      <th>0</th>\n",
       "      <td>2012</td>\n",
       "      <td>1</td>\n",
       "      <td>48</td>\n",
       "    </tr>\n",
       "    <tr>\n",
       "      <th>1</th>\n",
       "      <td>2012</td>\n",
       "      <td>2</td>\n",
       "      <td>41</td>\n",
       "    </tr>\n",
       "    <tr>\n",
       "      <th>2</th>\n",
       "      <td>2012</td>\n",
       "      <td>3</td>\n",
       "      <td>60</td>\n",
       "    </tr>\n",
       "    <tr>\n",
       "      <th>3</th>\n",
       "      <td>2012</td>\n",
       "      <td>4</td>\n",
       "      <td>65</td>\n",
       "    </tr>\n",
       "    <tr>\n",
       "      <th>4</th>\n",
       "      <td>2013</td>\n",
       "      <td>5</td>\n",
       "      <td>58</td>\n",
       "    </tr>\n",
       "    <tr>\n",
       "      <th>5</th>\n",
       "      <td>2013</td>\n",
       "      <td>6</td>\n",
       "      <td>52</td>\n",
       "    </tr>\n",
       "    <tr>\n",
       "      <th>6</th>\n",
       "      <td>2013</td>\n",
       "      <td>7</td>\n",
       "      <td>68</td>\n",
       "    </tr>\n",
       "    <tr>\n",
       "      <th>7</th>\n",
       "      <td>2013</td>\n",
       "      <td>8</td>\n",
       "      <td>74</td>\n",
       "    </tr>\n",
       "    <tr>\n",
       "      <th>8</th>\n",
       "      <td>2014</td>\n",
       "      <td>9</td>\n",
       "      <td>60</td>\n",
       "    </tr>\n",
       "    <tr>\n",
       "      <th>9</th>\n",
       "      <td>2014</td>\n",
       "      <td>10</td>\n",
       "      <td>56</td>\n",
       "    </tr>\n",
       "    <tr>\n",
       "      <th>10</th>\n",
       "      <td>2014</td>\n",
       "      <td>11</td>\n",
       "      <td>75</td>\n",
       "    </tr>\n",
       "    <tr>\n",
       "      <th>11</th>\n",
       "      <td>2014</td>\n",
       "      <td>12</td>\n",
       "      <td>78</td>\n",
       "    </tr>\n",
       "  </tbody>\n",
       "</table>\n",
       "</div>"
      ],
      "text/plain": [
       "    Annee  Rang du trimestre xi  Ventes en milliers d'euros yi\n",
       "0    2012                     1                             48\n",
       "1    2012                     2                             41\n",
       "2    2012                     3                             60\n",
       "3    2012                     4                             65\n",
       "4    2013                     5                             58\n",
       "5    2013                     6                             52\n",
       "6    2013                     7                             68\n",
       "7    2013                     8                             74\n",
       "8    2014                     9                             60\n",
       "9    2014                    10                             56\n",
       "10   2014                    11                             75\n",
       "11   2014                    12                             78"
      ]
     },
     "execution_count": 6,
     "metadata": {},
     "output_type": "execute_result"
    }
   ],
   "source": [
    "df"
   ]
  },
  {
   "cell_type": "code",
   "execution_count": 7,
   "metadata": {},
   "outputs": [],
   "source": [
    "df.to_excel('../data/ventes_en_euros.xlsx')"
   ]
  },
  {
   "cell_type": "code",
   "execution_count": 8,
   "metadata": {},
   "outputs": [],
   "source": [
    "import matplotlib.pyplot as plt"
   ]
  },
  {
   "cell_type": "markdown",
   "metadata": {},
   "source": [
    "## Calcule de coeficient saisonnier"
   ]
  },
  {
   "cell_type": "code",
   "execution_count": 9,
   "metadata": {},
   "outputs": [],
   "source": [
    "covy = np.sum( ( df[\"Ventes en milliers d'euros yi\"] - np.mean(df[\"Ventes en milliers d'euros yi\"]) ) * ( df[\"Rang du trimestre xi\"] - np.mean(df[\"Rang du trimestre xi\"]) ) )\n",
    "covx = np.sum( ( df[\"Rang du trimestre xi\"] - np.mean(df[\"Rang du trimestre xi\"]) )**2 )"
   ]
  },
  {
   "cell_type": "code",
   "execution_count": 10,
   "metadata": {},
   "outputs": [],
   "source": [
    "\n",
    "a = covy/covx"
   ]
  },
  {
   "cell_type": "code",
   "execution_count": 11,
   "metadata": {},
   "outputs": [],
   "source": [
    "b = np.mean(df[\"Ventes en milliers d'euros yi\"]) - a*np.mean(df[\"Rang du trimestre xi\"])"
   ]
  },
  {
   "cell_type": "code",
   "execution_count": 12,
   "metadata": {},
   "outputs": [
    {
     "data": {
      "text/plain": [
       "46.54545454545455"
      ]
     },
     "execution_count": 12,
     "metadata": {},
     "output_type": "execute_result"
    }
   ],
   "source": [
    "b"
   ]
  },
  {
   "cell_type": "code",
   "execution_count": 13,
   "metadata": {},
   "outputs": [],
   "source": [
    "trend = lambda x: a*x + b"
   ]
  },
  {
   "cell_type": "code",
   "execution_count": 14,
   "metadata": {},
   "outputs": [],
   "source": [
    "df['Trend yi'] = np.vectorize(trend)(df[\"Rang du trimestre xi\"])"
   ]
  },
  {
   "cell_type": "code",
   "execution_count": 15,
   "metadata": {},
   "outputs": [
    {
     "data": {
      "text/html": [
       "<div>\n",
       "<style scoped>\n",
       "    .dataframe tbody tr th:only-of-type {\n",
       "        vertical-align: middle;\n",
       "    }\n",
       "\n",
       "    .dataframe tbody tr th {\n",
       "        vertical-align: top;\n",
       "    }\n",
       "\n",
       "    .dataframe thead th {\n",
       "        text-align: right;\n",
       "    }\n",
       "</style>\n",
       "<table border=\"1\" class=\"dataframe\">\n",
       "  <thead>\n",
       "    <tr style=\"text-align: right;\">\n",
       "      <th></th>\n",
       "      <th>Annee</th>\n",
       "      <th>Rang du trimestre xi</th>\n",
       "      <th>Ventes en milliers d'euros yi</th>\n",
       "      <th>Trend yi</th>\n",
       "    </tr>\n",
       "  </thead>\n",
       "  <tbody>\n",
       "    <tr>\n",
       "      <th>0</th>\n",
       "      <td>2012</td>\n",
       "      <td>1</td>\n",
       "      <td>48</td>\n",
       "      <td>48.807692</td>\n",
       "    </tr>\n",
       "    <tr>\n",
       "      <th>1</th>\n",
       "      <td>2012</td>\n",
       "      <td>2</td>\n",
       "      <td>41</td>\n",
       "      <td>51.069930</td>\n",
       "    </tr>\n",
       "    <tr>\n",
       "      <th>2</th>\n",
       "      <td>2012</td>\n",
       "      <td>3</td>\n",
       "      <td>60</td>\n",
       "      <td>53.332168</td>\n",
       "    </tr>\n",
       "    <tr>\n",
       "      <th>3</th>\n",
       "      <td>2012</td>\n",
       "      <td>4</td>\n",
       "      <td>65</td>\n",
       "      <td>55.594406</td>\n",
       "    </tr>\n",
       "    <tr>\n",
       "      <th>4</th>\n",
       "      <td>2013</td>\n",
       "      <td>5</td>\n",
       "      <td>58</td>\n",
       "      <td>57.856643</td>\n",
       "    </tr>\n",
       "    <tr>\n",
       "      <th>5</th>\n",
       "      <td>2013</td>\n",
       "      <td>6</td>\n",
       "      <td>52</td>\n",
       "      <td>60.118881</td>\n",
       "    </tr>\n",
       "    <tr>\n",
       "      <th>6</th>\n",
       "      <td>2013</td>\n",
       "      <td>7</td>\n",
       "      <td>68</td>\n",
       "      <td>62.381119</td>\n",
       "    </tr>\n",
       "    <tr>\n",
       "      <th>7</th>\n",
       "      <td>2013</td>\n",
       "      <td>8</td>\n",
       "      <td>74</td>\n",
       "      <td>64.643357</td>\n",
       "    </tr>\n",
       "    <tr>\n",
       "      <th>8</th>\n",
       "      <td>2014</td>\n",
       "      <td>9</td>\n",
       "      <td>60</td>\n",
       "      <td>66.905594</td>\n",
       "    </tr>\n",
       "    <tr>\n",
       "      <th>9</th>\n",
       "      <td>2014</td>\n",
       "      <td>10</td>\n",
       "      <td>56</td>\n",
       "      <td>69.167832</td>\n",
       "    </tr>\n",
       "    <tr>\n",
       "      <th>10</th>\n",
       "      <td>2014</td>\n",
       "      <td>11</td>\n",
       "      <td>75</td>\n",
       "      <td>71.430070</td>\n",
       "    </tr>\n",
       "    <tr>\n",
       "      <th>11</th>\n",
       "      <td>2014</td>\n",
       "      <td>12</td>\n",
       "      <td>78</td>\n",
       "      <td>73.692308</td>\n",
       "    </tr>\n",
       "  </tbody>\n",
       "</table>\n",
       "</div>"
      ],
      "text/plain": [
       "    Annee  Rang du trimestre xi  Ventes en milliers d'euros yi   Trend yi\n",
       "0    2012                     1                             48  48.807692\n",
       "1    2012                     2                             41  51.069930\n",
       "2    2012                     3                             60  53.332168\n",
       "3    2012                     4                             65  55.594406\n",
       "4    2013                     5                             58  57.856643\n",
       "5    2013                     6                             52  60.118881\n",
       "6    2013                     7                             68  62.381119\n",
       "7    2013                     8                             74  64.643357\n",
       "8    2014                     9                             60  66.905594\n",
       "9    2014                    10                             56  69.167832\n",
       "10   2014                    11                             75  71.430070\n",
       "11   2014                    12                             78  73.692308"
      ]
     },
     "execution_count": 15,
     "metadata": {},
     "output_type": "execute_result"
    }
   ],
   "source": [
    "df"
   ]
  },
  {
   "cell_type": "code",
   "execution_count": 16,
   "metadata": {},
   "outputs": [],
   "source": [
    "coef_sai = lambda y,yi: y/yi"
   ]
  },
  {
   "cell_type": "code",
   "execution_count": 17,
   "metadata": {},
   "outputs": [],
   "source": [
    "df['Coeficient Saisoniere'] = np.vectorize(coef_sai)(df[\"Ventes en milliers d'euros yi\"], df[\"Trend yi\"])"
   ]
  },
  {
   "cell_type": "code",
   "execution_count": 18,
   "metadata": {},
   "outputs": [
    {
     "data": {
      "text/html": [
       "<div>\n",
       "<style scoped>\n",
       "    .dataframe tbody tr th:only-of-type {\n",
       "        vertical-align: middle;\n",
       "    }\n",
       "\n",
       "    .dataframe tbody tr th {\n",
       "        vertical-align: top;\n",
       "    }\n",
       "\n",
       "    .dataframe thead th {\n",
       "        text-align: right;\n",
       "    }\n",
       "</style>\n",
       "<table border=\"1\" class=\"dataframe\">\n",
       "  <thead>\n",
       "    <tr style=\"text-align: right;\">\n",
       "      <th></th>\n",
       "      <th>Annee</th>\n",
       "      <th>Rang du trimestre xi</th>\n",
       "      <th>Ventes en milliers d'euros yi</th>\n",
       "      <th>Trend yi</th>\n",
       "      <th>Coeficient Saisoniere</th>\n",
       "    </tr>\n",
       "  </thead>\n",
       "  <tbody>\n",
       "    <tr>\n",
       "      <th>0</th>\n",
       "      <td>2012</td>\n",
       "      <td>1</td>\n",
       "      <td>48</td>\n",
       "      <td>48.807692</td>\n",
       "      <td>0.983452</td>\n",
       "    </tr>\n",
       "    <tr>\n",
       "      <th>1</th>\n",
       "      <td>2012</td>\n",
       "      <td>2</td>\n",
       "      <td>41</td>\n",
       "      <td>51.069930</td>\n",
       "      <td>0.802821</td>\n",
       "    </tr>\n",
       "    <tr>\n",
       "      <th>2</th>\n",
       "      <td>2012</td>\n",
       "      <td>3</td>\n",
       "      <td>60</td>\n",
       "      <td>53.332168</td>\n",
       "      <td>1.125025</td>\n",
       "    </tr>\n",
       "    <tr>\n",
       "      <th>3</th>\n",
       "      <td>2012</td>\n",
       "      <td>4</td>\n",
       "      <td>65</td>\n",
       "      <td>55.594406</td>\n",
       "      <td>1.169182</td>\n",
       "    </tr>\n",
       "    <tr>\n",
       "      <th>4</th>\n",
       "      <td>2013</td>\n",
       "      <td>5</td>\n",
       "      <td>58</td>\n",
       "      <td>57.856643</td>\n",
       "      <td>1.002478</td>\n",
       "    </tr>\n",
       "    <tr>\n",
       "      <th>5</th>\n",
       "      <td>2013</td>\n",
       "      <td>6</td>\n",
       "      <td>52</td>\n",
       "      <td>60.118881</td>\n",
       "      <td>0.864953</td>\n",
       "    </tr>\n",
       "    <tr>\n",
       "      <th>6</th>\n",
       "      <td>2013</td>\n",
       "      <td>7</td>\n",
       "      <td>68</td>\n",
       "      <td>62.381119</td>\n",
       "      <td>1.090073</td>\n",
       "    </tr>\n",
       "    <tr>\n",
       "      <th>7</th>\n",
       "      <td>2013</td>\n",
       "      <td>8</td>\n",
       "      <td>74</td>\n",
       "      <td>64.643357</td>\n",
       "      <td>1.144743</td>\n",
       "    </tr>\n",
       "    <tr>\n",
       "      <th>8</th>\n",
       "      <td>2014</td>\n",
       "      <td>9</td>\n",
       "      <td>60</td>\n",
       "      <td>66.905594</td>\n",
       "      <td>0.896786</td>\n",
       "    </tr>\n",
       "    <tr>\n",
       "      <th>9</th>\n",
       "      <td>2014</td>\n",
       "      <td>10</td>\n",
       "      <td>56</td>\n",
       "      <td>69.167832</td>\n",
       "      <td>0.809625</td>\n",
       "    </tr>\n",
       "    <tr>\n",
       "      <th>10</th>\n",
       "      <td>2014</td>\n",
       "      <td>11</td>\n",
       "      <td>75</td>\n",
       "      <td>71.430070</td>\n",
       "      <td>1.049978</td>\n",
       "    </tr>\n",
       "    <tr>\n",
       "      <th>11</th>\n",
       "      <td>2014</td>\n",
       "      <td>12</td>\n",
       "      <td>78</td>\n",
       "      <td>73.692308</td>\n",
       "      <td>1.058455</td>\n",
       "    </tr>\n",
       "  </tbody>\n",
       "</table>\n",
       "</div>"
      ],
      "text/plain": [
       "    Annee  Rang du trimestre xi  Ventes en milliers d'euros yi   Trend yi  \\\n",
       "0    2012                     1                             48  48.807692   \n",
       "1    2012                     2                             41  51.069930   \n",
       "2    2012                     3                             60  53.332168   \n",
       "3    2012                     4                             65  55.594406   \n",
       "4    2013                     5                             58  57.856643   \n",
       "5    2013                     6                             52  60.118881   \n",
       "6    2013                     7                             68  62.381119   \n",
       "7    2013                     8                             74  64.643357   \n",
       "8    2014                     9                             60  66.905594   \n",
       "9    2014                    10                             56  69.167832   \n",
       "10   2014                    11                             75  71.430070   \n",
       "11   2014                    12                             78  73.692308   \n",
       "\n",
       "    Coeficient Saisoniere  \n",
       "0                0.983452  \n",
       "1                0.802821  \n",
       "2                1.125025  \n",
       "3                1.169182  \n",
       "4                1.002478  \n",
       "5                0.864953  \n",
       "6                1.090073  \n",
       "7                1.144743  \n",
       "8                0.896786  \n",
       "9                0.809625  \n",
       "10               1.049978  \n",
       "11               1.058455  "
      ]
     },
     "execution_count": 18,
     "metadata": {},
     "output_type": "execute_result"
    }
   ],
   "source": [
    "df"
   ]
  },
  {
   "cell_type": "code",
   "execution_count": 19,
   "metadata": {},
   "outputs": [
    {
     "data": {
      "text/plain": [
       "<AxesSubplot:xlabel='Rang du trimestre xi'>"
      ]
     },
     "execution_count": 19,
     "metadata": {},
     "output_type": "execute_result"
    },
    {
     "data": {
      "image/png": "[encoded data removed]",
      "text/plain": [
       "<Figure size 576x288 with 1 Axes>"
      ]
     },
     "metadata": {
      "needs_background": "light"
     },
     "output_type": "display_data"
    }
   ],
   "source": [
    "df.plot(x=\"Rang du trimestre xi\", y=[\"Ventes en milliers d'euros yi\",\"Trend yi\"], figsize=(8,4))"
   ]
  },
  {
   "cell_type": "code",
   "execution_count": 37,
   "metadata": {},
   "outputs": [
    {
     "data": {
      "text/html": [
       "<div>\n",
       "<style scoped>\n",
       "    .dataframe tbody tr th:only-of-type {\n",
       "        vertical-align: middle;\n",
       "    }\n",
       "\n",
       "    .dataframe tbody tr th {\n",
       "        vertical-align: top;\n",
       "    }\n",
       "\n",
       "    .dataframe thead th {\n",
       "        text-align: right;\n",
       "    }\n",
       "</style>\n",
       "<table border=\"1\" class=\"dataframe\">\n",
       "  <thead>\n",
       "    <tr style=\"text-align: right;\">\n",
       "      <th></th>\n",
       "      <th>Trimestre 1</th>\n",
       "      <th>Trimestre 2</th>\n",
       "      <th>Trimestre 3</th>\n",
       "      <th>Trimestre 4</th>\n",
       "    </tr>\n",
       "  </thead>\n",
       "  <tbody>\n",
       "    <tr>\n",
       "      <th>2012</th>\n",
       "      <td>0.983452</td>\n",
       "      <td>0.802821</td>\n",
       "      <td>1.125025</td>\n",
       "      <td>1.169182</td>\n",
       "    </tr>\n",
       "    <tr>\n",
       "      <th>2013</th>\n",
       "      <td>1.002478</td>\n",
       "      <td>0.864953</td>\n",
       "      <td>1.090073</td>\n",
       "      <td>1.144743</td>\n",
       "    </tr>\n",
       "    <tr>\n",
       "      <th>2014</th>\n",
       "      <td>0.896786</td>\n",
       "      <td>0.809625</td>\n",
       "      <td>1.049978</td>\n",
       "      <td>1.058455</td>\n",
       "    </tr>\n",
       "  </tbody>\n",
       "</table>\n",
       "</div>"
      ],
      "text/plain": [
       "      Trimestre 1  Trimestre 2  Trimestre 3  Trimestre 4\n",
       "2012     0.983452     0.802821     1.125025     1.169182\n",
       "2013     1.002478     0.864953     1.090073     1.144743\n",
       "2014     0.896786     0.809625     1.049978     1.058455"
      ]
     },
     "execution_count": 37,
     "metadata": {},
     "output_type": "execute_result"
    }
   ],
   "source": [
    "dd = pd.DataFrame(dict({\n",
    "    '2012': np.array(df.iloc[:4, -1]),\n",
    "    '2013': np.array(df.iloc[4: 8, -1]),\n",
    "    '2014': np.array(df.iloc[8:, -1])\n",
    "})).T\n",
    "dd.columns = ['Trimestre 1', 'Trimestre 2', 'Trimestre 3', 'Trimestre 4']\n",
    "dd"
   ]
  },
  {
   "cell_type": "code",
   "execution_count": 54,
   "metadata": {},
   "outputs": [],
   "source": [
    "som = dd.mean(axis=0)\n",
    "som = pd.DataFrame({'Coef saisonn.': som})\n",
    "\n",
    "som = pd.DataFrame(som.T)"
   ]
  },
  {
   "cell_type": "code",
   "execution_count": 71,
   "metadata": {},
   "outputs": [],
   "source": [
    "tabcoef = pd.concat([dd, som])"
   ]
  },
  {
   "cell_type": "code",
   "execution_count": 72,
   "metadata": {},
   "outputs": [],
   "source": [
    "cs = pd.DataFrame({'C.S': tabcoef.iloc[-1, :]/np.mean(tabcoef.iloc[-1, :])})\n",
    "cs = cs.T\n",
    "tabcoef = pd.concat([ tabcoef, cs ])"
   ]
  },
  {
   "cell_type": "code",
   "execution_count": 73,
   "metadata": {},
   "outputs": [
    {
     "data": {
      "text/html": [
       "<div>\n",
       "<style scoped>\n",
       "    .dataframe tbody tr th:only-of-type {\n",
       "        vertical-align: middle;\n",
       "    }\n",
       "\n",
       "    .dataframe tbody tr th {\n",
       "        vertical-align: top;\n",
       "    }\n",
       "\n",
       "    .dataframe thead th {\n",
       "        text-align: right;\n",
       "    }\n",
       "</style>\n",
       "<table border=\"1\" class=\"dataframe\">\n",
       "  <thead>\n",
       "    <tr style=\"text-align: right;\">\n",
       "      <th></th>\n",
       "      <th>Trimestre 1</th>\n",
       "      <th>Trimestre 2</th>\n",
       "      <th>Trimestre 3</th>\n",
       "      <th>Trimestre 4</th>\n",
       "    </tr>\n",
       "  </thead>\n",
       "  <tbody>\n",
       "    <tr>\n",
       "      <th>2012</th>\n",
       "      <td>0.983452</td>\n",
       "      <td>0.802821</td>\n",
       "      <td>1.125025</td>\n",
       "      <td>1.169182</td>\n",
       "    </tr>\n",
       "    <tr>\n",
       "      <th>2013</th>\n",
       "      <td>1.002478</td>\n",
       "      <td>0.864953</td>\n",
       "      <td>1.090073</td>\n",
       "      <td>1.144743</td>\n",
       "    </tr>\n",
       "    <tr>\n",
       "      <th>2014</th>\n",
       "      <td>0.896786</td>\n",
       "      <td>0.809625</td>\n",
       "      <td>1.049978</td>\n",
       "      <td>1.058455</td>\n",
       "    </tr>\n",
       "    <tr>\n",
       "      <th>Coef saisonn.</th>\n",
       "      <td>0.960905</td>\n",
       "      <td>0.825800</td>\n",
       "      <td>1.088359</td>\n",
       "      <td>1.124127</td>\n",
       "    </tr>\n",
       "    <tr>\n",
       "      <th>C.S</th>\n",
       "      <td>0.961100</td>\n",
       "      <td>0.825967</td>\n",
       "      <td>1.088579</td>\n",
       "      <td>1.124354</td>\n",
       "    </tr>\n",
       "  </tbody>\n",
       "</table>\n",
       "</div>"
      ],
      "text/plain": [
       "               Trimestre 1  Trimestre 2  Trimestre 3  Trimestre 4\n",
       "2012              0.983452     0.802821     1.125025     1.169182\n",
       "2013              1.002478     0.864953     1.090073     1.144743\n",
       "2014              0.896786     0.809625     1.049978     1.058455\n",
       "Coef saisonn.     0.960905     0.825800     1.088359     1.124127\n",
       "C.S               0.961100     0.825967     1.088579     1.124354"
      ]
     },
     "execution_count": 73,
     "metadata": {},
     "output_type": "execute_result"
    }
   ],
   "source": [
    "tabcoef"
   ]
  },
  {
   "cell_type": "code",
   "execution_count": 78,
   "metadata": {},
   "outputs": [],
   "source": [
    "prevision = lambda R, cs: (a*R + b)*cs"
   ]
  },
  {
   "cell_type": "code",
   "execution_count": 84,
   "metadata": {},
   "outputs": [
    {
     "data": {
      "text/plain": [
       "72.99989368374348"
      ]
     },
     "execution_count": 84,
     "metadata": {},
     "output_type": "execute_result"
    }
   ],
   "source": [
    "prevision(13, tabcoef.iloc[-1, 0])"
   ]
  },
  {
   "cell_type": "code",
   "execution_count": 87,
   "metadata": {},
   "outputs": [
    {
     "data": {
      "text/plain": [
       "64.6044649600229"
      ]
     },
     "execution_count": 87,
     "metadata": {},
     "output_type": "execute_result"
    }
   ],
   "source": [
    "prevision(14, tabcoef.iloc[-1, 1])"
   ]
  },
  {
   "cell_type": "code",
   "execution_count": 88,
   "metadata": {},
   "outputs": [
    {
     "data": {
      "text/plain": [
       "87.60778079973498"
      ]
     },
     "execution_count": 88,
     "metadata": {},
     "output_type": "execute_result"
    }
   ],
   "source": [
    "prevision(15, tabcoef.iloc[-1, 2])"
   ]
  },
  {
   "cell_type": "code",
   "execution_count": 89,
   "metadata": {},
   "outputs": [
    {
     "data": {
      "text/plain": [
       "93.03049589878064"
      ]
     },
     "execution_count": 89,
     "metadata": {},
     "output_type": "execute_result"
    }
   ],
   "source": [
    "prevision(16, tabcoef.iloc[-1, 3])"
   ]
  },
  {
   "cell_type": "code",
   "execution_count": 96,
   "metadata": {},
   "outputs": [
    {
     "data": {
      "text/plain": [
       "[0.9610997373084121,\n",
       " 0.8259667849158047,\n",
       " 1.0885791071262199,\n",
       " 1.1243543706495631,\n",
       " 0.9610997373084121,\n",
       " 0.8259667849158047,\n",
       " 1.0885791071262199,\n",
       " 1.1243543706495631,\n",
       " 0.9610997373084121,\n",
       " 0.8259667849158047,\n",
       " 1.0885791071262199,\n",
       " 1.1243543706495631]"
      ]
     },
     "execution_count": 96,
     "metadata": {},
     "output_type": "execute_result"
    }
   ],
   "source": [
    "tabcoef.iloc[-1, :] \n",
    "cs = []\n",
    "cs.extend(tabcoef.iloc[-1, :])\n",
    "cs.extend(tabcoef.iloc[-1, :])\n",
    "cs.extend(tabcoef.iloc[-1, :])\n",
    "cs"
   ]
  },
  {
   "cell_type": "code",
   "execution_count": 97,
   "metadata": {},
   "outputs": [],
   "source": [
    "df['C.S'] = cs"
   ]
  },
  {
   "cell_type": "code",
   "execution_count": 98,
   "metadata": {},
   "outputs": [
    {
     "data": {
      "text/html": [
       "<div>\n",
       "<style scoped>\n",
       "    .dataframe tbody tr th:only-of-type {\n",
       "        vertical-align: middle;\n",
       "    }\n",
       "\n",
       "    .dataframe tbody tr th {\n",
       "        vertical-align: top;\n",
       "    }\n",
       "\n",
       "    .dataframe thead th {\n",
       "        text-align: right;\n",
       "    }\n",
       "</style>\n",
       "<table border=\"1\" class=\"dataframe\">\n",
       "  <thead>\n",
       "    <tr style=\"text-align: right;\">\n",
       "      <th></th>\n",
       "      <th>Annee</th>\n",
       "      <th>Rang du trimestre xi</th>\n",
       "      <th>Ventes en milliers d'euros yi</th>\n",
       "      <th>Trend yi</th>\n",
       "      <th>Coeficient Saisoniere</th>\n",
       "      <th>C.S</th>\n",
       "    </tr>\n",
       "  </thead>\n",
       "  <tbody>\n",
       "    <tr>\n",
       "      <th>0</th>\n",
       "      <td>2012</td>\n",
       "      <td>1</td>\n",
       "      <td>48</td>\n",
       "      <td>48.807692</td>\n",
       "      <td>0.983452</td>\n",
       "      <td>0.961100</td>\n",
       "    </tr>\n",
       "    <tr>\n",
       "      <th>1</th>\n",
       "      <td>2012</td>\n",
       "      <td>2</td>\n",
       "      <td>41</td>\n",
       "      <td>51.069930</td>\n",
       "      <td>0.802821</td>\n",
       "      <td>0.825967</td>\n",
       "    </tr>\n",
       "    <tr>\n",
       "      <th>2</th>\n",
       "      <td>2012</td>\n",
       "      <td>3</td>\n",
       "      <td>60</td>\n",
       "      <td>53.332168</td>\n",
       "      <td>1.125025</td>\n",
       "      <td>1.088579</td>\n",
       "    </tr>\n",
       "    <tr>\n",
       "      <th>3</th>\n",
       "      <td>2012</td>\n",
       "      <td>4</td>\n",
       "      <td>65</td>\n",
       "      <td>55.594406</td>\n",
       "      <td>1.169182</td>\n",
       "      <td>1.124354</td>\n",
       "    </tr>\n",
       "    <tr>\n",
       "      <th>4</th>\n",
       "      <td>2013</td>\n",
       "      <td>5</td>\n",
       "      <td>58</td>\n",
       "      <td>57.856643</td>\n",
       "      <td>1.002478</td>\n",
       "      <td>0.961100</td>\n",
       "    </tr>\n",
       "    <tr>\n",
       "      <th>5</th>\n",
       "      <td>2013</td>\n",
       "      <td>6</td>\n",
       "      <td>52</td>\n",
       "      <td>60.118881</td>\n",
       "      <td>0.864953</td>\n",
       "      <td>0.825967</td>\n",
       "    </tr>\n",
       "    <tr>\n",
       "      <th>6</th>\n",
       "      <td>2013</td>\n",
       "      <td>7</td>\n",
       "      <td>68</td>\n",
       "      <td>62.381119</td>\n",
       "      <td>1.090073</td>\n",
       "      <td>1.088579</td>\n",
       "    </tr>\n",
       "    <tr>\n",
       "      <th>7</th>\n",
       "      <td>2013</td>\n",
       "      <td>8</td>\n",
       "      <td>74</td>\n",
       "      <td>64.643357</td>\n",
       "      <td>1.144743</td>\n",
       "      <td>1.124354</td>\n",
       "    </tr>\n",
       "    <tr>\n",
       "      <th>8</th>\n",
       "      <td>2014</td>\n",
       "      <td>9</td>\n",
       "      <td>60</td>\n",
       "      <td>66.905594</td>\n",
       "      <td>0.896786</td>\n",
       "      <td>0.961100</td>\n",
       "    </tr>\n",
       "    <tr>\n",
       "      <th>9</th>\n",
       "      <td>2014</td>\n",
       "      <td>10</td>\n",
       "      <td>56</td>\n",
       "      <td>69.167832</td>\n",
       "      <td>0.809625</td>\n",
       "      <td>0.825967</td>\n",
       "    </tr>\n",
       "    <tr>\n",
       "      <th>10</th>\n",
       "      <td>2014</td>\n",
       "      <td>11</td>\n",
       "      <td>75</td>\n",
       "      <td>71.430070</td>\n",
       "      <td>1.049978</td>\n",
       "      <td>1.088579</td>\n",
       "    </tr>\n",
       "    <tr>\n",
       "      <th>11</th>\n",
       "      <td>2014</td>\n",
       "      <td>12</td>\n",
       "      <td>78</td>\n",
       "      <td>73.692308</td>\n",
       "      <td>1.058455</td>\n",
       "      <td>1.124354</td>\n",
       "    </tr>\n",
       "  </tbody>\n",
       "</table>\n",
       "</div>"
      ],
      "text/plain": [
       "    Annee  Rang du trimestre xi  Ventes en milliers d'euros yi   Trend yi  \\\n",
       "0    2012                     1                             48  48.807692   \n",
       "1    2012                     2                             41  51.069930   \n",
       "2    2012                     3                             60  53.332168   \n",
       "3    2012                     4                             65  55.594406   \n",
       "4    2013                     5                             58  57.856643   \n",
       "5    2013                     6                             52  60.118881   \n",
       "6    2013                     7                             68  62.381119   \n",
       "7    2013                     8                             74  64.643357   \n",
       "8    2014                     9                             60  66.905594   \n",
       "9    2014                    10                             56  69.167832   \n",
       "10   2014                    11                             75  71.430070   \n",
       "11   2014                    12                             78  73.692308   \n",
       "\n",
       "    Coeficient Saisoniere       C.S  \n",
       "0                0.983452  0.961100  \n",
       "1                0.802821  0.825967  \n",
       "2                1.125025  1.088579  \n",
       "3                1.169182  1.124354  \n",
       "4                1.002478  0.961100  \n",
       "5                0.864953  0.825967  \n",
       "6                1.090073  1.088579  \n",
       "7                1.144743  1.124354  \n",
       "8                0.896786  0.961100  \n",
       "9                0.809625  0.825967  \n",
       "10               1.049978  1.088579  \n",
       "11               1.058455  1.124354  "
      ]
     },
     "execution_count": 98,
     "metadata": {},
     "output_type": "execute_result"
    }
   ],
   "source": [
    "df"
   ]
  },
  {
   "cell_type": "code",
   "execution_count": 99,
   "metadata": {},
   "outputs": [],
   "source": [
    "calculValeurDesaisonner = lambda yi, cs: yi/cs"
   ]
  },
  {
   "cell_type": "code",
   "execution_count": 100,
   "metadata": {},
   "outputs": [],
   "source": [
    "df['Valeurs Desaisonnalisers'] = np.vectorize(calculValeurDesaisonner)(df[\"Ventes en milliers d'euros yi\"], df['C.S'])"
   ]
  },
  {
   "cell_type": "code",
   "execution_count": 101,
   "metadata": {},
   "outputs": [
    {
     "data": {
      "text/html": [
       "<div>\n",
       "<style scoped>\n",
       "    .dataframe tbody tr th:only-of-type {\n",
       "        vertical-align: middle;\n",
       "    }\n",
       "\n",
       "    .dataframe tbody tr th {\n",
       "        vertical-align: top;\n",
       "    }\n",
       "\n",
       "    .dataframe thead th {\n",
       "        text-align: right;\n",
       "    }\n",
       "</style>\n",
       "<table border=\"1\" class=\"dataframe\">\n",
       "  <thead>\n",
       "    <tr style=\"text-align: right;\">\n",
       "      <th></th>\n",
       "      <th>Annee</th>\n",
       "      <th>Rang du trimestre xi</th>\n",
       "      <th>Ventes en milliers d'euros yi</th>\n",
       "      <th>Trend yi</th>\n",
       "      <th>Coeficient Saisoniere</th>\n",
       "      <th>C.S</th>\n",
       "      <th>Valeurs Desaisonnalisers</th>\n",
       "    </tr>\n",
       "  </thead>\n",
       "  <tbody>\n",
       "    <tr>\n",
       "      <th>0</th>\n",
       "      <td>2012</td>\n",
       "      <td>1</td>\n",
       "      <td>48</td>\n",
       "      <td>48.807692</td>\n",
       "      <td>0.983452</td>\n",
       "      <td>0.961100</td>\n",
       "      <td>49.942788</td>\n",
       "    </tr>\n",
       "    <tr>\n",
       "      <th>1</th>\n",
       "      <td>2012</td>\n",
       "      <td>2</td>\n",
       "      <td>41</td>\n",
       "      <td>51.069930</td>\n",
       "      <td>0.802821</td>\n",
       "      <td>0.825967</td>\n",
       "      <td>49.638800</td>\n",
       "    </tr>\n",
       "    <tr>\n",
       "      <th>2</th>\n",
       "      <td>2012</td>\n",
       "      <td>3</td>\n",
       "      <td>60</td>\n",
       "      <td>53.332168</td>\n",
       "      <td>1.125025</td>\n",
       "      <td>1.088579</td>\n",
       "      <td>55.117721</td>\n",
       "    </tr>\n",
       "    <tr>\n",
       "      <th>3</th>\n",
       "      <td>2012</td>\n",
       "      <td>4</td>\n",
       "      <td>65</td>\n",
       "      <td>55.594406</td>\n",
       "      <td>1.169182</td>\n",
       "      <td>1.124354</td>\n",
       "      <td>57.810955</td>\n",
       "    </tr>\n",
       "    <tr>\n",
       "      <th>4</th>\n",
       "      <td>2013</td>\n",
       "      <td>5</td>\n",
       "      <td>58</td>\n",
       "      <td>57.856643</td>\n",
       "      <td>1.002478</td>\n",
       "      <td>0.961100</td>\n",
       "      <td>60.347535</td>\n",
       "    </tr>\n",
       "    <tr>\n",
       "      <th>5</th>\n",
       "      <td>2013</td>\n",
       "      <td>6</td>\n",
       "      <td>52</td>\n",
       "      <td>60.118881</td>\n",
       "      <td>0.864953</td>\n",
       "      <td>0.825967</td>\n",
       "      <td>62.956527</td>\n",
       "    </tr>\n",
       "    <tr>\n",
       "      <th>6</th>\n",
       "      <td>2013</td>\n",
       "      <td>7</td>\n",
       "      <td>68</td>\n",
       "      <td>62.381119</td>\n",
       "      <td>1.090073</td>\n",
       "      <td>1.088579</td>\n",
       "      <td>62.466751</td>\n",
       "    </tr>\n",
       "    <tr>\n",
       "      <th>7</th>\n",
       "      <td>2013</td>\n",
       "      <td>8</td>\n",
       "      <td>74</td>\n",
       "      <td>64.643357</td>\n",
       "      <td>1.144743</td>\n",
       "      <td>1.124354</td>\n",
       "      <td>65.815549</td>\n",
       "    </tr>\n",
       "    <tr>\n",
       "      <th>8</th>\n",
       "      <td>2014</td>\n",
       "      <td>9</td>\n",
       "      <td>60</td>\n",
       "      <td>66.905594</td>\n",
       "      <td>0.896786</td>\n",
       "      <td>0.961100</td>\n",
       "      <td>62.428484</td>\n",
       "    </tr>\n",
       "    <tr>\n",
       "      <th>9</th>\n",
       "      <td>2014</td>\n",
       "      <td>10</td>\n",
       "      <td>56</td>\n",
       "      <td>69.167832</td>\n",
       "      <td>0.809625</td>\n",
       "      <td>0.825967</td>\n",
       "      <td>67.799337</td>\n",
       "    </tr>\n",
       "    <tr>\n",
       "      <th>10</th>\n",
       "      <td>2014</td>\n",
       "      <td>11</td>\n",
       "      <td>75</td>\n",
       "      <td>71.430070</td>\n",
       "      <td>1.049978</td>\n",
       "      <td>1.088579</td>\n",
       "      <td>68.897152</td>\n",
       "    </tr>\n",
       "    <tr>\n",
       "      <th>11</th>\n",
       "      <td>2014</td>\n",
       "      <td>12</td>\n",
       "      <td>78</td>\n",
       "      <td>73.692308</td>\n",
       "      <td>1.058455</td>\n",
       "      <td>1.124354</td>\n",
       "      <td>69.373146</td>\n",
       "    </tr>\n",
       "  </tbody>\n",
       "</table>\n",
       "</div>"
      ],
      "text/plain": [
       "    Annee  Rang du trimestre xi  Ventes en milliers d'euros yi   Trend yi  \\\n",
       "0    2012                     1                             48  48.807692   \n",
       "1    2012                     2                             41  51.069930   \n",
       "2    2012                     3                             60  53.332168   \n",
       "3    2012                     4                             65  55.594406   \n",
       "4    2013                     5                             58  57.856643   \n",
       "5    2013                     6                             52  60.118881   \n",
       "6    2013                     7                             68  62.381119   \n",
       "7    2013                     8                             74  64.643357   \n",
       "8    2014                     9                             60  66.905594   \n",
       "9    2014                    10                             56  69.167832   \n",
       "10   2014                    11                             75  71.430070   \n",
       "11   2014                    12                             78  73.692308   \n",
       "\n",
       "    Coeficient Saisoniere       C.S  Valeurs Desaisonnalisers  \n",
       "0                0.983452  0.961100                 49.942788  \n",
       "1                0.802821  0.825967                 49.638800  \n",
       "2                1.125025  1.088579                 55.117721  \n",
       "3                1.169182  1.124354                 57.810955  \n",
       "4                1.002478  0.961100                 60.347535  \n",
       "5                0.864953  0.825967                 62.956527  \n",
       "6                1.090073  1.088579                 62.466751  \n",
       "7                1.144743  1.124354                 65.815549  \n",
       "8                0.896786  0.961100                 62.428484  \n",
       "9                0.809625  0.825967                 67.799337  \n",
       "10               1.049978  1.088579                 68.897152  \n",
       "11               1.058455  1.124354                 69.373146  "
      ]
     },
     "execution_count": 101,
     "metadata": {},
     "output_type": "execute_result"
    }
   ],
   "source": [
    "df"
   ]
  },
  {
   "cell_type": "code",
   "execution_count": 102,
   "metadata": {},
   "outputs": [
    {
     "data": {
      "text/plain": [
       "<AxesSubplot:xlabel='Rang du trimestre xi'>"
      ]
     },
     "execution_count": 102,
     "metadata": {},
     "output_type": "execute_result"
    },
    {
     "data": {
      "image/png": "[encoded data removed]",
      "text/plain": [
       "<Figure size 576x288 with 1 Axes>"
      ]
     },
     "metadata": {
      "needs_background": "light"
     },
     "output_type": "display_data"
    }
   ],
   "source": [
    "df.plot(x=\"Rang du trimestre xi\", y=[\"Ventes en milliers d'euros yi\",\"Trend yi\", \"Valeurs Desaisonnalisers\"], figsize=(8,4))"
   ]
  },
  {
   "cell_type": "code",
   "execution_count": 103,
   "metadata": {},
   "outputs": [],
   "source": [
    "data_additif ={\n",
    "    \"Annee\":[2011,2011,2011,2011,2012, 2012, 2012, 2012, 2013, 2013,2013, 2013, 2014, 2014, 2014, 2014],\n",
    "    \"xi\": range(1, 17),\n",
    "    \"yi\": [120, 181, 71, 119, 128, 190, 73, 124, 140, 196, 84, 133, 145, 206, 96, 142]\n",
    "}"
   ]
  },
  {
   "cell_type": "code",
   "execution_count": 105,
   "metadata": {},
   "outputs": [],
   "source": [
    "ddd = pd.DataFrame(data_additif)"
   ]
  },
  {
   "cell_type": "code",
   "execution_count": 107,
   "metadata": {},
   "outputs": [],
   "source": [
    "ddd.to_excel(\"data_model_additif.xlsx\")"
   ]
  },
  {
   "cell_type": "code",
   "execution_count": null,
   "metadata": {},
   "outputs": [],
   "source": []
  }
 ],
 "metadata": {
  "interpreter": {
   "hash": "b3ba2566441a7c06988d0923437866b63cedc61552a5af99d1f4fb67d367b25f"
  },
  "kernelspec": {
   "display_name": "Python 3",
   "language": "python",
   "name": "python3"
  },
  "language_info": {
   "codemirror_mode": {
    "name": "ipython",
    "version": 3
   },
   "file_extension": ".py",
   "mimetype": "text/x-python",
   "name": "python",
   "nbconvert_exporter": "python",
   "pygments_lexer": "ipython3",
   "version": "3.8.5"
  }
 },
 "nbformat": 4,
 "nbformat_minor": 2
}
